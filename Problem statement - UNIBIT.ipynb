{
 "cells": [
  {
   "cell_type": "markdown",
   "id": "549a0b5d",
   "metadata": {},
   "source": [
    "`Problem - statement :`"
   ]
  },
  {
   "cell_type": "markdown",
   "id": "077eb092",
   "metadata": {},
   "source": [
    "**Given an array of integers and a target value, you must determine which two integers' sum\n",
    "equals the target and return a 2D array. Then merge the array into a single array with sorting (\n",
    "ascending ) order, in the next step double the target value and find again the combination of\n",
    "digits (can be multiple digits ) that are equal to the double targeted value and returned into a 2D\n",
    "array.**\n",
    "\n",
    "Sample Input : [1, 3, 2, 2, -4, -6, -2, 8];\n",
    "\n",
    "Target Value = 4,\n",
    "\n",
    "Output: First Combination For “4” : [ [1,3],[2,2],[-4,8],[-6,2] ];\n",
    "\n",
    "Merge Into a single Array : [-6,-4,1,2,2,2,3,8];\n",
    "\n",
    "Second Combination For “8” : [ [ 1,3,2,2], [8,-4,2,2],....,[n,n,n,n] ]"
   ]
  },
  {
   "cell_type": "code",
   "execution_count": 4,
   "id": "0d392699",
   "metadata": {},
   "outputs": [
    {
     "name": "stdout",
     "output_type": "stream",
     "text": [
      "First Combination For 4 : [[-4, 8], [1, 3], [2, 2]]\n",
      "Merge Into a single Array : [-4, 8, 1, 3, 2, 2]\n",
      "Second Combination For 8 : [[8, 1, 3, 2, 2]]\n"
     ]
    }
   ],
   "source": [
    "nums = [1, 3, 2, 2, -4, -6, -2, 8]\n",
    "target = 4\n",
    "\n",
    "def find_combinations(nums, target):\n",
    "    complements = {}\n",
    "    pairs = []\n",
    "    merged_array = []\n",
    "    output = []\n",
    "\n",
    "    # Step 1: Find pairs of numbers that sum up to the target value\n",
    "    for i in range(len(nums)):\n",
    "        for j in range(i + 1, len(nums)):\n",
    "            if nums[i] + nums[j] == target:\n",
    "                pairs.append([nums[i], nums[j]])\n",
    "\n",
    "    # Step 2: Sort the pairs and merge into a single array\n",
    "    pairs.sort(key=lambda x: x[0])\n",
    "    for pair in pairs:\n",
    "        merged_array.extend(pair)\n",
    "\n",
    "\n",
    "    # Step 3: Double the target value and find combinations in the merged array\n",
    "    doubled_target = target * 2\n",
    "    length = len(merged_array)\n",
    "\n",
    "    for i in range(length):\n",
    "        if merged_array[i] == doubled_target:\n",
    "            output.append(merged_array[i:i+length])\n",
    "\n",
    "    return output\n",
    "\n",
    "print(\"First Combination For\", target, \":\", pairs)\n",
    "print(\"Merge Into a single Array :\", merged_array)\n",
    "print(\"Second Combination For\", doubled_target, \":\", output)"
   ]
  },
  {
   "cell_type": "code",
   "execution_count": null,
   "id": "96dcb226",
   "metadata": {},
   "outputs": [],
   "source": []
  }
 ],
 "metadata": {
  "kernelspec": {
   "display_name": "Python 3 (ipykernel)",
   "language": "python",
   "name": "python3"
  },
  "language_info": {
   "codemirror_mode": {
    "name": "ipython",
    "version": 3
   },
   "file_extension": ".py",
   "mimetype": "text/x-python",
   "name": "python",
   "nbconvert_exporter": "python",
   "pygments_lexer": "ipython3",
   "version": "3.9.12"
  }
 },
 "nbformat": 4,
 "nbformat_minor": 5
}
